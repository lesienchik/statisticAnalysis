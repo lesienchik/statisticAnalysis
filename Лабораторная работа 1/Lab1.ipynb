{
 "cells": [
  {
   "cell_type": "markdown",
   "id": "b98911d8-0b60-445d-9908-ffb175aba698",
   "metadata": {},
   "source": [
    "# Лабораторная работа 1"
   ]
  },
  {
   "cell_type": "code",
   "execution_count": 6,
   "id": "6d25307a-ac7b-4ba8-b748-9b126311978f",
   "metadata": {},
   "outputs": [
    {
     "name": "stdout",
     "output_type": "stream",
     "text": [
      "Среднее значение: 56.5\n",
      "Дисперсия: 795.25\n",
      "Стандартное отклонение: 28.20017730440715\n",
      "Медиана: 47.5\n"
     ]
    }
   ],
   "source": [
    "import numpy as np\n",
    "\n",
    "# Загрузка данных (выборки времени в социальных сетях)\n",
    "data = [30, 45, 60, 25, 90, 120, 50, 35, 70, 40]\n",
    "\n",
    "# Вычисление основных числовых характеристик\n",
    "mean_value = np.mean(data)\n",
    "variance_value = np.var(data)\n",
    "std_deviation_value = np.std(data)\n",
    "median_value = np.median(data)\n",
    "\n",
    "# Вывод результатов\n",
    "print(f\"Среднее значение: {mean_value}\")\n",
    "print(f\"Дисперсия: {variance_value}\")\n",
    "print(f\"Стандартное отклонение: {std_deviation_value}\")\n",
    "print(f\"Медиана: {median_value}\")"
   ]
  }
 ],
 "metadata": {
  "kernelspec": {
   "display_name": "Python 3 (ipykernel)",
   "language": "python",
   "name": "python3"
  },
  "language_info": {
   "codemirror_mode": {
    "name": "ipython",
    "version": 3
   },
   "file_extension": ".py",
   "mimetype": "text/x-python",
   "name": "python",
   "nbconvert_exporter": "python",
   "pygments_lexer": "ipython3",
   "version": "3.12.0"
  }
 },
 "nbformat": 4,
 "nbformat_minor": 5
}
