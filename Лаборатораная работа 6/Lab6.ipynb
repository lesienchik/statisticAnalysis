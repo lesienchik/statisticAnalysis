{
  "metadata": {
    "language_info": {
      "codemirror_mode": {
        "name": "python",
        "version": 3
      },
      "file_extension": ".py",
      "mimetype": "text/x-python",
      "name": "python",
      "nbconvert_exporter": "python",
      "pygments_lexer": "ipython3",
      "version": "3.8"
    },
    "kernelspec": {
      "name": "python",
      "display_name": "Python (Pyodide)",
      "language": "python"
    }
  },
  "nbformat_minor": 4,
  "nbformat": 4,
  "cells": [
    {
      "cell_type": "code",
      "source": "import numpy as np\nfrom scipy import stats\n\n# Заданные выборки\nX = np.array([100, 129, 205, 134, 0, 130, 156, 130, 141])\nY = np.array([98, 110, 102, 96, 97, 93, 101, 90, -110, 91, 94, 105, 90])\nZ = np.array([56, 78, 96, 76, 69, 89, 61, 63, 60, 71, 68])\n\n# 1. Анализ наличия грубых ошибок\n# Предположим, что цена не может быть отрицательной. Уберем отрицательные значения в выборке Y.\nY = Y[Y >= 0]\n\n# Предположим, что цена не может быть равна нулю. Уберем нулевые значения в выборке X.\nX = X[X != 0]\n\n# 2. Статистический анализ\n\n# Средние значения\nmean_X = np.mean(X)\nmean_Y = np.mean(Y)\nmean_Z = np.mean(Z)\n\n# Проверим, есть ли статистически значимая разница между средними значениями выборок.\n# Используем однофакторный дисперсионный анализ (ANOVA).\n\nstat, p_value = stats.f_oneway(X, Y, Z)\n\n# Значение p-value\nprint(\"p-value:\", p_value)\n\n# Основываясь на значении p-value, делаем вывод о наличии статистически значимой разницы.\n\nif p_value < 0.05:\n    print(\"Есть статистически значимая разница между средними значениями выборок.\")\nelse:\n    print(\"Нет статистически значимой разницы между средними значениями выборок.\")\n# Средние значения цен в каждом городе\nmean_X_Moscow = np.mean(X)\nmean_Y_SPb = np.mean(Y)\nmean_Z_Omsk = np.mean(Z)\n\n# Вывод результатов\nprint(\"Средняя цена в Москве:\", mean_X_Moscow)\nprint(\"Средняя цена в Санкт-Петербурге:\", mean_Y_SPb)\nprint(\"Средняя цена в Омске:\", mean_Z_Omsk)\n\n# Определение наиболее выгодного города\nmin_mean = min(mean_X_Moscow, mean_Y_SPb, mean_Z_Omsk)\n\nif min_mean == mean_X_Moscow:\n    print(\"Наиболее выгодно покупать лекарство в Москве.\")\nelif min_mean == mean_Y_SPb:\n    print(\"Наиболее выгодно покупать лекарство в Санкт-Петербурге.\")\nelse:\n    print(\"Наиболее выгодно покупать лекарство в Омске.\")\n",
      "metadata": {
        "trusted": true
      },
      "execution_count": 3,
      "outputs": [
        {
          "name": "stdout",
          "text": "p-value: 1.410422665711164e-08\nЕсть статистически значимая разница между средними значениями выборок.\nСредняя цена в Москве: 140.625\nСредняя цена в Санкт-Петербурге: 97.25\nСредняя цена в Омске: 71.54545454545455\nНаиболее выгодно покупать лекарство в Омске.\n",
          "output_type": "stream"
        }
      ]
    }
  ]
}